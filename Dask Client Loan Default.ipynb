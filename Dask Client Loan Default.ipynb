{
 "cells": [
  {
   "cell_type": "code",
   "execution_count": 58,
   "metadata": {},
   "outputs": [],
   "source": [
    "#%%time\n",
    "#create DASK scheduler and worker remote containers\n",
    "#this will take at least one minute as there are delays added on purpose to allow containers to spawn\n",
    "#on successful run you should see scheduler URL printed\n",
    "\n",
    "#!python3 daskmaster.py"
   ]
  },
  {
   "cell_type": "code",
   "execution_count": 59,
   "metadata": {},
   "outputs": [],
   "source": [
    "# define as global\n",
    "daskschurl = \"\""
   ]
  },
  {
   "cell_type": "code",
   "execution_count": 60,
   "metadata": {},
   "outputs": [],
   "source": [
    "import cdsw\n",
    "import os\n",
    "import time\n",
    "\n",
    "def dask_distributed_launch(nworkers=1):\n",
    "    # modify global copy\n",
    "    global daskschurl\n",
    "    \n",
    "    #check if already running\n",
    "    if daskschurl!=\"\":\n",
    "        #print(cdsw.list_workers())\n",
    "        print(\" Dask Scheduler Already Launched \" + daskschurl)\n",
    "        return(daskschurl)\n",
    "    \n",
    "    # Launch CDSW workers. These are engines that will run in \n",
    "    # the same project, execute a given code or script, and exit.\n",
    "    # Scheduler engine will keep running in background until session is closed\n",
    "    dask_scheduler = cdsw.launch_workers(n=1, cpu=2, memory=4, \n",
    "                                  kernel=\"python3\",script=\"daskschedular.py\")\n",
    "\n",
    "\n",
    "    # IP of launched container comes up unknown for a while\n",
    "    # Wait for a while so IP is available in data structure\n",
    "    time.sleep(30)\n",
    "\n",
    "    # Get schedular IP\n",
    "    schedulerid = dask_scheduler[0][\"id\"]\n",
    "    listtemp = cdsw.list_workers()\n",
    "\n",
    "    for x in listtemp:\n",
    "      if x[\"id\"] == schedulerid:\n",
    "        schedulerip = x[\"ip_address\"]\n",
    "\n",
    "\n",
    "    print(\" Scheduler IP: \" + schedulerip)\n",
    "\n",
    "    #Scheduler protocol and port - defaults from Dask\n",
    "    schproto = \"tcp://\"\n",
    "    schport = \":8786\"\n",
    "\n",
    "    schloc = schproto + schedulerip + schport\n",
    "    print(\" Scheduler URL: \" + schloc)\n",
    "\n",
    "\n",
    "    # Launch at least one Dask Worker\n",
    "\n",
    "    dask_client = cdsw.launch_workers(n=nworkers, cpu=2, memory=4, \n",
    "                                  kernel=\"python3\",script=\"daskworker.py\",\n",
    "                                      env={\"DASKSCHURL\": schloc})\n",
    "\n",
    "    # wait for a while until the container is launched successfully\n",
    "    time.sleep(30)\n",
    "    \n",
    "    #set scheduler URL as environment variable\n",
    "    #os.putenv(\"DASKSCHURL\", schloc)\n",
    "    daskschurl = schloc\n",
    "\n",
    "    #return scheduler URL\n",
    "    return(schloc)\n",
    "\n",
    "\n",
    "def dask_stop_workers():\n",
    "    global daskschurl\n",
    "    cdsw.stop_workers()\n",
    "    daskschurl = \"\"\n",
    "    "
   ]
  },
  {
   "cell_type": "code",
   "execution_count": 61,
   "metadata": {},
   "outputs": [],
   "source": [
    "def dask_test():\n",
    "    import dask.array as da\n",
    "    x = da.random.random((40000,40000),chunks=(1000,1000))\n",
    "    y = da.exp(x).sum()\n",
    "    print(\" Result of DASK distributed array test \" + y.compute())\n"
   ]
  },
  {
   "cell_type": "code",
   "execution_count": 62,
   "metadata": {},
   "outputs": [],
   "source": [
    "dask_stop_workers()"
   ]
  },
  {
   "cell_type": "code",
   "execution_count": 63,
   "metadata": {},
   "outputs": [
    {
     "name": "stdout",
     "output_type": "stream",
     "text": [
      " Scheduler IP: 10.10.175.136\n",
      " Scheduler URL: tcp://10.10.175.136:8786\n"
     ]
    },
    {
     "data": {
      "text/plain": [
       "'tcp://10.10.175.136:8786'"
      ]
     },
     "execution_count": 63,
     "metadata": {},
     "output_type": "execute_result"
    }
   ],
   "source": [
    "#launch scheduler and worker container(s) - you can specify number of workers as argument\n",
    "#to relaunch - first call dask_stop_workers() and then call this again\n",
    "dask_distributed_launch()"
   ]
  },
  {
   "cell_type": "code",
   "execution_count": 65,
   "metadata": {},
   "outputs": [
    {
     "name": "stdout",
     "output_type": "stream",
     "text": [
      "tcp://10.10.175.136:8786\n"
     ]
    }
   ],
   "source": [
    "#check if global variable has the right URL\n",
    "#we will use this to register a client\n",
    "print(daskschurl)"
   ]
  },
  {
   "cell_type": "code",
   "execution_count": 66,
   "metadata": {},
   "outputs": [
    {
     "data": {
      "text/plain": [
       "2749244551.6216931"
      ]
     },
     "execution_count": 66,
     "metadata": {},
     "output_type": "execute_result"
    }
   ],
   "source": [
    "#Register a DASK client and run a test\n",
    "from dask.distributed import Client\n",
    "client = Client(daskschurl)\n",
    "import dask.array as da\n",
    "x = da.random.random((40000,40000),chunks=(1000,1000))\n",
    "y = da.exp(x).sum()\n",
    "y.compute()"
   ]
  },
  {
   "cell_type": "code",
   "execution_count": null,
   "metadata": {},
   "outputs": [],
   "source": []
  },
  {
   "cell_type": "code",
   "execution_count": null,
   "metadata": {},
   "outputs": [],
   "source": []
  }
 ],
 "metadata": {
  "kernelspec": {
   "display_name": "Python 3",
   "language": "python",
   "name": "python3"
  },
  "language_info": {
   "codemirror_mode": {
    "name": "ipython",
    "version": 3
   },
   "file_extension": ".py",
   "mimetype": "text/x-python",
   "name": "python",
   "nbconvert_exporter": "python",
   "pygments_lexer": "ipython3",
   "version": "3.6.8"
  }
 },
 "nbformat": 4,
 "nbformat_minor": 2
}
